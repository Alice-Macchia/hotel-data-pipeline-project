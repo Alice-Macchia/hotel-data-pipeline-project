{
 "cells": [
  {
   "cell_type": "code",
   "execution_count": 0,
   "metadata": {
    "application/vnd.databricks.v1+cell": {
     "cellMetadata": {
      "byteLimit": 2048000,
      "implicitDf": true,
      "rowLimit": 10000
     },
     "inputWidgets": {},
     "nuid": "03bec3dd-4c86-463a-8c8e-ec019a22f9bd",
     "showTitle": false,
     "tableResultSettingsMap": {},
     "title": ""
    }
   },
   "outputs": [],
   "source": [
    "%sql\n",
    "-- create catalog, schemas and volume\n",
    "CREATE CATALOG IF NOT EXISTS catalog_progetto_finale;\n",
    "CREATE SCHEMA IF NOT EXISTS catalog_progetto_finale.schema_pf;\n",
    "CREATE VOLUME IF NOT EXISTS catalog_progetto_finale.schema_pf.volume_pf;\n",
    "CREATE SCHEMA IF NOT EXISTS catalog_progetto_finale.bronze_schema_pf;\n",
    "CREATE SCHEMA IF NOT EXISTS catalog_progetto_finale.silver_schema_pf;\n",
    "CREATE SCHEMA IF NOT EXISTS catalog_progetto_finale.gold_schema_pf;"
   ]
  }
 ],
 "metadata": {
  "application/vnd.databricks.v1+notebook": {
   "computePreferences": null,
   "dashboards": [],
   "environmentMetadata": {
    "base_environment": "",
    "environment_version": "3"
   },
   "inputWidgetPreferences": null,
   "language": "python",
   "notebookMetadata": {
    "mostRecentlyExecutedCommandWithImplicitDF": {
     "commandId": 8868909947312940,
     "dataframes": [
      "_sqldf"
     ]
    },
    "pythonIndentUnit": 4
   },
   "notebookName": "creazione_catalog",
   "widgets": {}
  },
  "language_info": {
   "name": "python"
  }
 },
 "nbformat": 4,
 "nbformat_minor": 0
}