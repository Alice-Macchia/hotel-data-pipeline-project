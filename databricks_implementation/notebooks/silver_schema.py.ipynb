{
 "cells": [
  {
   "cell_type": "code",
   "execution_count": 0,
   "metadata": {
    "application/vnd.databricks.v1+cell": {
     "cellMetadata": {},
     "inputWidgets": {},
     "nuid": "72d4f0e2-3f4a-4bfc-b3cc-03631f28db64",
     "showTitle": false,
     "tableResultSettingsMap": {},
     "title": ""
    }
   },
   "outputs": [],
   "source": [
    "import dlt\n",
    "from pyspark.sql.functions import *\n",
    "\n",
    "# Schema da cui leggere i dati Bronze\n",
    "bronze_schema = \"catalog_progetto_finale.bronze_schema_pf\"\n",
    "\n",
    "# Lettura delle tabelle Bronze (Delta) e le carica come DataFrame Spark standard\n",
    "#pulisco le tabelle dalla colonna _rescued_data perchè non serve più e può creare problemi nelle fasi successive\n",
    "hotels_bronze_df = spark.read.table(f\"{bronze_schema}.hotels_bronze\").drop(\"_rescued_data\")\n",
    "customers_bronze_df = spark.read.table(f\"{bronze_schema}.customers_bronze\").drop(\"_rescued_data\")\n",
    "rooms_bronze_df = spark.read.table(f\"{bronze_schema}.rooms_bronze\").drop(\"_rescued_data\")\n",
    "bookings_bronze_df = spark.read.table(f\"{bronze_schema}.bookings_bronze\").drop(\"_rescued_data\")\n",
    "payments_bronze_df = spark.read.table(f\"{bronze_schema}.payments_bronze\").drop(\"_rescued_data\")\n",
    "\n",
    "@dlt.table(name=\"hotels_silver\", comment=\"Hotel puliti, escludendo country='XX'.\")\n",
    "def hotels_silver():\n",
    "    return hotels_bronze_df.filter(col(\"country\") != \"XX\")\n",
    "\n",
    "@dlt.table(name=\"customers_silver\", comment=\"Clienti puliti, con email nulle gestite e duplicati rimossi.\")\n",
    "def customers_silver():\n",
    "    return (\n",
    "        customers_bronze_df\n",
    "        .withColumn(\"email\", when(trim(col(\"email\")) == \"\", None).otherwise(col(\"email\")))\n",
    "        .dropDuplicates([\"customer_id\"])\n",
    "    ) # trim rimuove gli spazi\n",
    "\n",
    "@dlt.table(name=\"rooms_silver\", comment=\"Stanze pulite, con duplicati rimossi.\")\n",
    "def rooms_silver():\n",
    "    return rooms_bronze_df.dropDuplicates([\"room_id\"])\n",
    "\n",
    "@dlt.table(name=\"bookings_silver\", comment=\"Prenotazioni pulite con date corrette e valori validati.\")\n",
    "def bookings_silver():\n",
    "    bookings_with_dates = bookings_bronze_df.withColumns({\n",
    "        \"checkin_date\": to_timestamp(col(\"checkin_date\")),\n",
    "        \"checkout_date\": to_timestamp(col(\"checkout_date\"))\n",
    "    })\n",
    "    bookings_fixed_dates = bookings_with_dates.withColumn(\n",
    "        \"temp_checkin\", when(col(\"checkin_date\") > col(\"checkout_date\"), col(\"checkout_date\")).otherwise(col(\"checkin_date\"))\n",
    "    ).withColumn(\n",
    "        \"checkout_date\", when(col(\"checkin_date\") > col(\"checkout_date\"), col(\"checkin_date\")).otherwise(col(\"checkout_date\"))\n",
    "    ).withColumn(\"checkin_date\", col(\"temp_checkin\")).drop(\"temp_checkin\")\n",
    "    \n",
    "    valid_currencies = ['EUR', 'USD', 'GBP']\n",
    "    return (\n",
    "        bookings_fixed_dates\n",
    "        .withColumn(\"total_amount\", when(col(\"total_amount\") < 0, None).otherwise(col(\"total_amount\")))\n",
    "        .withColumn(\"currency\", when(col(\"currency\").isin(valid_currencies), col(\"currency\")).otherwise(None))\n",
    "    )\n",
    "\n",
    "# Per creare la tabella payments_silver, dobbiamo leggere la tabella bookings_silver appena definita.\n",
    "# DLT ci permette di farlo usando dlt.read()\n",
    "@dlt.table(name=\"payments_silver\", comment=\"Pagamenti con flag di data quality.\")\n",
    "def payments_silver():\n",
    "    bookings_silver_df = dlt.read(\"bookings_silver\").select(\"booking_id\", \"total_amount\")\n",
    "    \n",
    "    merged_df = payments_bronze_df.join(bookings_silver_df, \"booking_id\", \"left\")\n",
    "    \n",
    "    #dq_orphan -> colonna che vale true se il pagamento è \"orfano\", cioè se non ha trovato una prenotazione\n",
    "    # dq_over_amount -> colonna che vale true se l'importo del pagamento (amount) è maggiore dell'importo totale della prenotazione\n",
    "    return (\n",
    "        merged_df\n",
    "        .withColumn(\"dq_orphan\", col(\"total_amount\").isNull())\n",
    "        .withColumn(\"dq_over_amount\", col(\"amount\") > col(\"total_amount\"))\n",
    "        .select(payments_bronze_df[\"*\"], \"dq_orphan\", \"dq_over_amount\")\n",
    "    )"
   ]
  },
  {
   "cell_type": "markdown",
   "metadata": {
    "application/vnd.databricks.v1+cell": {
     "cellMetadata": {},
     "inputWidgets": {},
     "nuid": "ef25809a-7131-41e9-a571-2fc8f28035e5",
     "showTitle": false,
     "tableResultSettingsMap": {},
     "title": ""
    }
   },
   "source": [
    "Questo script orchestra una serie di pulizie e validazioni, trasformando dati grezzi e potenzialmente inaffidabili in un set di tabelle Silver pulite, coerenti e pronte per essere usate per analisi aggregate o per il machine learning."
   ]
  }
 ],
 "metadata": {
  "application/vnd.databricks.v1+notebook": {
   "computePreferences": null,
   "dashboards": [],
   "environmentMetadata": {
    "base_environment": "",
    "environment_version": "3"
   },
   "inputWidgetPreferences": null,
   "language": "python",
   "notebookMetadata": {
    "pythonIndentUnit": 4
   },
   "notebookName": "silver_schema.py",
   "widgets": {}
  },
  "language_info": {
   "name": "python"
  }
 },
 "nbformat": 4,
 "nbformat_minor": 0
}
